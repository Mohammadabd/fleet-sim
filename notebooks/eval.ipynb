{
 "cells": [
  {
   "cell_type": "code",
   "execution_count": null,
   "metadata": {},
   "outputs": [],
   "source": [
    "%load_ext autoreload\n",
    "%autoreload 2\n",
    "import numpy as np\n",
    "import pandas as pd\n",
    "import matplotlib\n",
    "%matplotlib inline\n",
    "import matplotlib.pyplot as plt\n",
    "plt.style.use('ggplot')\n",
    "import seaborn as sns\n",
    "import sys\n",
    "sys.path.append(\"../src\")\n",
    "sys.path.append(\"..\")\n",
    "from tools.log_analyzer import LogAnalyzer"
   ]
  },
  {
   "cell_type": "code",
   "execution_count": null,
   "metadata": {},
   "outputs": [],
   "source": [
    "log_path = \"../logs/{}/sim/\"\n",
    "models = ['d3_pls', 'avg3']\n",
    "iters = range(4, 9)\n",
    "alphas = [2]\n",
    "labels = ['{m}/a{a}/a{a}/{i}k'.format(m=m, a=a, i=i) for m in models for a in alphas for i in iters]\n",
    "paths = [log_path.format(d) for d in labels]\n",
    "analyzer = LogAnalyzer()"
   ]
  },
  {
   "cell_type": "code",
   "execution_count": null,
   "metadata": {},
   "outputs": [],
   "source": [
    "analyzer.plot_summary(paths, labels, plt);"
   ]
  },
  {
   "cell_type": "code",
   "execution_count": null,
   "metadata": {},
   "outputs": [],
   "source": [
    "analyzer.plot_metrics_ts(paths, labels, plt);"
   ]
  },
  {
   "cell_type": "code",
   "execution_count": null,
   "metadata": {},
   "outputs": [],
   "source": [
    "df = analyzer.compute_metrics(paths, labels)"
   ]
  },
  {
   "cell_type": "code",
   "execution_count": null,
   "metadata": {},
   "outputs": [],
   "source": [
    "# df['eval_alpha'] = [float(s.split('/')[1][1]) /10 for s in df.index]\n",
    "use_cols = ['00_reject_rate',\t'01_revenue/hour',\t'02_occupancy_rate', '03_cruising/day',\t'05_waiting_time']\n",
    "df = df[use_cols]\n",
    "df['model'] = ['-'.join(s.split('/')[:2]) for s in df.index]\n",
    "df['iterations'] = [s.split('/')[-1] for s in df.index]"
   ]
  },
  {
   "cell_type": "code",
   "execution_count": null,
   "metadata": {},
   "outputs": [],
   "source": [
    "aggdf = df.groupby('model')\n",
    "aggdf_mean = aggdf.mean()\n",
    "aggdf_std = aggdf.std()\n",
    "\n",
    "for i, model in enumerate(aggdf_mean.index):\n",
    "    means = aggdf_mean.loc[model].values.tolist()\n",
    "    stds = aggdf_std.loc[model].values.tolist()\n",
    "    print(' & '.join([str(i)] + [\"{:.2f} $\\pm$ {:.2f}\".format(m, s) for m, s in zip(means, stds)]) + ' \\\\\\\\')"
   ]
  },
  {
   "cell_type": "code",
   "execution_count": null,
   "metadata": {},
   "outputs": [],
   "source": [
    "plt.style.use('default')\n",
    "plt.figure(figsize=(8, 4))\n",
    "plt.subplots_adjust(wspace=0.5, hspace=0.6)\n",
    "for i, col in enumerate(df.columns[:6]):\n",
    "    plt.subplot(2, 3, 1+i)\n",
    "    plt.title(col)\n",
    "    sns.boxplot(x='model', y=col, data=df);"
   ]
  },
  {
   "cell_type": "code",
   "execution_count": null,
   "metadata": {},
   "outputs": [],
   "source": []
  }
 ],
 "metadata": {
  "kernelspec": {
   "display_name": "Python 3",
   "language": "python",
   "name": "python3"
  },
  "language_info": {
   "codemirror_mode": {
    "name": "ipython",
    "version": 3
   },
   "file_extension": ".py",
   "mimetype": "text/x-python",
   "name": "python",
   "nbconvert_exporter": "python",
   "pygments_lexer": "ipython3",
   "version": "3.6.3"
  }
 },
 "nbformat": 4,
 "nbformat_minor": 1
}
